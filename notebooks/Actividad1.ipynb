{
 "cells": [
  {
   "cell_type": "code",
   "execution_count": null,
   "id": "3d4875b6-8ca8-453c-bace-bbea06b4618d",
   "metadata": {},
   "outputs": [],
   "source": [
    "import sys\n",
    "sys.path.append('../src')  # para que Python busque funciones.py en src\n",
    "\n",
    "import funciones\n"
   ]
  },
  {
   "cell_type": "code",
   "execution_count": null,
   "id": "1c550c23-1eb8-47f2-aab0-82941074da59",
   "metadata": {},
   "outputs": [],
   "source": [
    "evaluaciones = [\n",
    " # Ronda 1\n",
    " {\n",
    " 'EquipoA': {'innovacion': 2, 'presentacion': 1, 'errores': True},\n",
    " 'EquipoB': {'innovacion': 1, 'presentacion': 0, 'errores': False},\n",
    " 'EquipoC': {'innovacion': 1, 'presentacion': 2, 'errores': True},\n",
    " 'EquipoD': {'innovacion': 0, 'presentacion': 1, 'errores': False},\n",
    " 'EquipoE': {'innovacion': 1, 'presentacion': 1, 'errores': False}\n",
    " },\n",
    " # Ronda 2\n",
    " {\n",
    "In [4]:\n",
    " 'EquipoA': {'innovacion': 0, 'presentacion': 2, 'errores': False},\n",
    " 'EquipoB': {'innovacion': 2, 'presentacion': 0, 'errores': True},\n",
    " 'EquipoC': {'innovacion': 1, 'presentacion': 1, 'errores': False},\n",
    " 'EquipoD': {'innovacion': 2, 'presentacion': 1, 'errores': True},\n",
    " 'EquipoE': {'innovacion': 0, 'presentacion': 1, 'errores': False}\n",
    " },\n",
    " # Ronda 3\n",
    " {\n",
    " 'EquipoA': {'innovacion': 3, 'presentacion': 2, 'errores': False},\n",
    " 'EquipoB': {'innovacion': 1, 'presentacion': 1, 'errores': True},\n",
    " 'EquipoC': {'innovacion': 2, 'presentacion': 0, 'errores': False},\n",
    " 'EquipoD': {'innovacion': 1, 'presentacion': 3, 'errores': True},\n",
    " 'EquipoE': {'innovacion': 2, 'presentacion': 2, 'errores': False}\n",
    " },\n",
    " # Ronda 4\n",
    " {\n",
    " 'EquipoA': {'innovacion': 1, 'presentacion': 3, 'errores': True},\n",
    " 'EquipoB': {'innovacion': 2, 'presentacion': 2, 'errores': False},\n",
    " 'EquipoC': {'innovacion': 3, 'presentacion': 1, 'errores': False},\n",
    " 'EquipoD': {'innovacion': 0, 'presentacion': 2, 'errores': True},\n",
    " 'EquipoE': {'innovacion': 2, 'presentacion': 0, 'errores': False}\n",
    " },\n",
    " # Ronda 5\n",
    " {\n",
    " 'EquipoA': {'innovacion': 2, 'presentacion': 2, 'errores': False},\n",
    " 'EquipoB': {'innovacion': 1, 'presentacion': 3, 'errores': True},\n",
    " 'EquipoC': {'innovacion': 0, 'presentacion': 2, 'errores': False},\n",
    " 'EquipoD': {'innovacion': 3, 'presentacion': 1, 'errores': False},\n",
    " 'EquipoE': {'innovacion': 2, 'presentacion': 3, 'errores': True}\n",
    " }\n",
    "]\n"
   ]
  },
  {
   "cell_type": "code",
   "execution_count": null,
   "id": "99863f10",
   "metadata": {},
   "outputs": [],
   "source": [
    "# Celda 3\n",
    "resultados = {}\n",
    "for ronda in evaluaciones:\n",
    "    for equipo, stats in ronda.items():\n",
    "        puntaje = funciones.calcular_puntaje(stats)\n",
    "        resultados[equipo] = resultados.get(equipo, 0) + puntaje\n",
    "\n",
    "print(resultados)\n"
   ]
  }
 ],
 "metadata": {
  "kernelspec": {
   "display_name": "Python 3 (ipykernel)",
   "language": "python",
   "name": "python3"
  },
  "language_info": {
   "codemirror_mode": {
    "name": "ipython",
    "version": 3
   },
   "file_extension": ".py",
   "mimetype": "text/x-python",
   "name": "python",
   "nbconvert_exporter": "python",
   "pygments_lexer": "ipython3",
   "version": "3.12.9"
  }
 },
 "nbformat": 4,
 "nbformat_minor": 5
}
